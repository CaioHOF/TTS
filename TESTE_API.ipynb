{
  "nbformat": 4,
  "nbformat_minor": 0,
  "metadata": {
    "colab": {
      "provenance": [],
      "authorship_tag": "ABX9TyMbyZEcGzHTex9oo3hr1rpX",
      "include_colab_link": true
    },
    "kernelspec": {
      "name": "python3",
      "display_name": "Python 3"
    },
    "language_info": {
      "name": "python"
    }
  },
  "cells": [
    {
      "cell_type": "markdown",
      "metadata": {
        "id": "view-in-github",
        "colab_type": "text"
      },
      "source": [
        "<a href=\"https://colab.research.google.com/github/CaioHOF/TTS/blob/dev/TESTE_API.ipynb\" target=\"_parent\"><img src=\"https://colab.research.google.com/assets/colab-badge.svg\" alt=\"Open In Colab\"/></a>"
      ]
    },
    {
      "cell_type": "code",
      "source": [
        "import pandas as pd\n",
        "import random\n",
        "import uuid\n",
        "from sklearn.cluster import KMeans\n",
        "from sklearn.preprocessing import OneHotEncoder"
      ],
      "metadata": {
        "id": "VUy5sqC8GTzQ"
      },
      "execution_count": null,
      "outputs": []
    },
    {
      "cell_type": "code",
      "execution_count": null,
      "metadata": {
        "colab": {
          "base_uri": "https://localhost:8080/"
        },
        "id": "0_0Oa6z301Gz",
        "outputId": "bf9c4804-9161-482c-e477-b20d256ccfa0"
      },
      "outputs": [
        {
          "output_type": "stream",
          "name": "stdout",
          "text": [
            "ERROR: unknown command \"pyaUtogUi\"\n"
          ]
        }
      ],
      "source": [
        "df = pd.read_csv()\n",
        "\n",
        "\n",
        "# Inicialize o codificador OneHotEncoder\n",
        "encoder = OneHotEncoder(sparse = False)\n",
        "\n",
        "# Ajuste e transforme os códigos de material e cor usando o codificador\n",
        "cor_encoded = encoder.fit_transform(df[[\"cor\"]])\n",
        "\n",
        "# Crie um DataFrame a partir da matriz de saída codificada\n",
        "cor_encoded_df = pd.DataFrame(cor_encoded,\n",
        "                                       columns=encoder.get_feature_names_out([\"cor\"]))\n",
        "\n",
        "# Concatene o DataFrame codificado com o DataFrame original\n",
        "df_encoded = pd.concat([df.drop([\"cor\"], axis=1), cor_encoded_df], axis=1)\n",
        "\n",
        "\n",
        "\n",
        "# Continue com o seu código de clustering K-Means...\n",
        "kmeans = KMeans(n_clusters=10, random_state=0, n_init=\"auto\").fit(df_encoded)\n",
        "\n",
        "\n",
        "kmeans.cluster_centers_\n",
        "\n",
        "df_encoded['predict'] = kmeans.labels_\n",
        "\n",
        "uuid_col = [uuid.uuid4() for _ in range(500)]\n",
        "\n",
        "# Adicione o UUID à lista de colunas\n",
        "df_encoded[\"uuid\"] = uuid_col\n",
        "def recomendacao(cor, largura, comprimento, profundidade):\n",
        "\n",
        "  data = {\n",
        "    \"cor\": [cor],\n",
        "    \"largura\":[largura],\n",
        "    \"comprimento\": [comprimento],\n",
        "    \"profundidade\": [profundidade]\n",
        "  }\n",
        "\n",
        "  # Crie o DataFrame\n",
        "  df_temp = pd.DataFrame(data)\n",
        "\n",
        "  cor_encoded = encoder.transform(df_temp[[\"cor\"]])\n",
        "  cor_encoded_df_temp = pd.DataFrame(cor_encoded, columns=encoder.get_feature_names_out([\"cor\"]))\n",
        "  df_temp_encoded = pd.concat([df_temp.drop([\"cor\"], axis=1), cor_encoded_df], axis=1)\n",
        "\n",
        "  class_predict = kmeans.predict([df_temp_encoded.iloc[0]])\n",
        "  filter = df_encoded[df_encoded['predict'] == class_predict[0] ]['uuid']\n",
        "  return filter"
      ]
    }
  ]
}